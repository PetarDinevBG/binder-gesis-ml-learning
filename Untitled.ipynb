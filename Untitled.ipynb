{
 "cells": [
  {
   "cell_type": "code",
   "execution_count": 3,
   "metadata": {},
   "outputs": [],
   "source": []
  },
  {
   "cell_type": "code",
   "execution_count": 334,
   "metadata": {},
   "outputs": [],
   "source": [
    "\n",
    "from striprtf.striprtf import rtf_to_text\n",
    "rtf_string = open(\"02tuesday/news_corona_1.RTF\").read()\n",
    "text = [ rtf_to_text(i) for i in rtf_string ]\n"
   ]
  },
  {
   "cell_type": "code",
   "execution_count": 337,
   "metadata": {},
   "outputs": [],
   "source": [
    "\n"
   ]
  },
  {
   "cell_type": "code",
   "execution_count": 338,
   "metadata": {},
   "outputs": [],
   "source": []
  },
  {
   "cell_type": "code",
   "execution_count": 335,
   "metadata": {},
   "outputs": [],
   "source": [
    "text\n",
    "splitted_text = text.replace(\"\\n\", \" \").split(\"End of Document \")"
   ]
  },
  {
   "cell_type": "code",
   "execution_count": 366,
   "metadata": {},
   "outputs": [],
   "source": [
    "from striprtf.striprtf import rtf_to_text\n",
    "filenames = [\"news_corona_\" + str(i) + \".RTF\" for i in range(1, 4) ]\n",
    "\n",
    "rtf_string = []\n",
    "for f in filenames:\n",
    "    rtf_string.append(open(\"02tuesday/\" + f).read() )\n",
    "    \n",
    "splitted_text = [ i.replace(\"\\n\", \" \").split(\"End of Document  \") for i in text ]"
   ]
  },
  {
   "cell_type": "code",
   "execution_count": 344,
   "metadata": {},
   "outputs": [
    {
     "name": "stdout",
     "output_type": "stream",
     "text": [
      "    de Volkskrant 3 maart 2020 dinsdag   Copyright 2020 De Persgroep Nederland BV All Rights Reserved   Section: Ten Eerste; Blz. 10 Length: 142 words Byline: ANP Highlight: WHO   Body   Het aantal nieuwe gevallen van het gevreesde nieuwe coronavirus uit Wuhan is in de afgelopen 24 uur negen keer hoger geweest buiten China dan in dat land zelf. Dit zei de chef van WHO (Wereldgezondheidsorganisatie) Tedros Adhanom Ghebreyesus maandag in Genève. De uitbraak in Italië, Iran, Japan en Zuid-Korea is nu onze grootste zorg, aldus Tedros. En de epidemie in Zuid-Korea kan nog steeds worden bedwongen door waakzaamheid, aldus Tedros die zei dat een speciale WHO-missie in Iran is aangekomen om bij de bestrijding van het coronavirus te helpen. Duitsland, Frankrijk en Groot-Brittannië hebben 5 miljoen euro hulp aangeboden. Er zijn in Iran al 66 patiënten overleden aan het virus. De gezondheidszorg in Iran worstelt al jaren met vooral Amerikaanse sancties die medische hulp aan patiënten bemoeilijken.  Bekijk de oorspronkelijke pagina:  Classification   Language: DUTCH; NEDERLANDS   Publication-Type: Krant   Subject: International Relations (94%); Epidemics (92%); Viruses (88%); Embargoes + Sanctions (83%); Infectious Disease (64%); Nuclear Science (63%); Public Health (63%); Ebola Virus Disease (63%)   Industry: Nuclear Energy (61%)   Load-Date: March 2, 2020   \n",
      "      NRC Handelsblad 29 februari 2020 zaterdag, 1ste Editie   Copyright 2020 NRC Media B.V. All Rights Reserved   Section: OPINIE & DEBAT; Blz. 2 Length: 729 words Byline: Rosanne Hertzberger Body   Bekijk het voor de grap eens vanuit het coronavirus zelf. Eerst China, daarna Zuid-Korea, nu Italie, Frankrijk, Nigeria, Verenigde Staten: binnen een paar maanden van start-up naar een multinational die de hele wereld lamlegt en alle aandacht op zich gevestigd heeft. Dat is nog eens een sterk staaltje viral gaan. Dat is geen aantrekkelijke business-strategie die u kunt afkijken. Coronavirus doet niet aan planning. Coronavirus denkt niet, doet niets, het virus 'is'. Een hoopje genetisch materiaal in een zakje vet. Biologen noemen dat niet eens leven. Het is een van de vele pluisjes die ronddwarrelen, vastplakken, met ons meeliften en ons uiteindelijk doodziek maken.  SARS-CoV2, in de volksmond  corona, heeft een aantal van die typische eigenschappen die een ziekteverwekker succesvol maakt: het maakt zijn gastheer in veel gevallen niet al te ziek, en maar in weinig gevallen dood. Het zorgt ervoor dat zijn vervoersmiddel nog een tijdje al hoestend kan rondwandelen. Hiv is het ultieme voorbeeld: mensen zijn soms jaren seropositief zonder aids te krijgen.  Nog zo'n virus dat veel mensen weet te besmetten: influenza. De Verenigde Staten maakten een uitzonderlijk zware influenza-winter mee. Het wetenschappelijk tijdschrift JAMA maakt de stand op tussen sterfte door influenza en door coronavirus in de VS: het staat momenteel 16.000-0. Als je alle doden in China er tegenover zet, is er voor elke acht Amerikaanse influenza-doden één Chinees corona-sterfgeval.  Ik zat maandag bij het talkshow-programma Op1 en werd gevraagd naar mijn mening over het coronavirus. Als microbioloog én opinieschrijver zou dit mijn moment en mijn onderwerp moeten zijn, maar tot mijn schrik had ik maar bijzonder weinig mening over de uitbraak. Pas later merkte ik allerlei verontrustende reflexen, bij mezelf en bij anderen. En die reflexen zijn uitermate egocentrisch. Het risico voor mij, mijn ouders en kinderen is klein. Geen zorgen dus: corona valt mee. Ik geniet het privilege dat ik een kerngezonde jonge vrouw ben te midden van een epidemie die gewoonweg niet heel gevaarlijk is voor kerngezonde jonge vrouwen. Ik kan me dat perspectief veroorloven omdat ik in Nederland woon met een uitstekend functionerende gezondheidszorg, met het RIVM en de GGD en tamelijk saaie degelijke bewindslieden.  Ik ben niet de enige die zo denkt: ,,Het is [...] een virus dat je pas in gevaar brengt als je al kwetsbaar bent, dus ik ga me er totaal niet druk om maken\", schrijft een medisch specialist op Twitter. Precies die reflex sprak ik maandag hardop uit bij Op1. Waren wij echt zo egocentrisch? Het trieste antwoord: ja. Samen met al onze kerngezonde leeftijdsgenoten roepen wij: kom maar door met dat coronavirus. Appeltje-eitje. Misschien zien we stiekem zelfs alle voordelen van de pandemie. Joepie, deglobalisering. De broodnodige dip in wereldwijde CO2-uitstoot. Even niet vliegen, lege havens, beurzen en congressen die worden afgezegd. Een dip in de wereldeconomie, een rem op de groei. Precies wat we nodig hadden. Dat laat dat vetzakje met erfelijk materiaal duidelijk zien: wij denken alleen aan onszelf. En als kind van mijn tijd ben ik ook schuldig. Is het de ontkerkelijking? Of de tijdgeest die ervoor zorgt dat mensen zich steeds minder zorgen lijken te maken over medeburgers op leeftijd, of mensen die chronisch ziek of anderszins kwetsbaar zijn?  Het is precies dezelfde oorzaak van veel vaccinatietwijfels. Mazelen vormt nu eenmaal geen belachelijk groot risico voor een gemiddeld gezond Nederlands kind. Dat dat vaccin wel degelijk andere kinderen kan beschermen die kwetsbaarder zijn, is gewoonweg geen overtuigend argument voor veel mensen. Laat staan dat mensen nog te recruteren zijn voor een wereldwijde uitroeiing van zo'n virus. Daarvoor zijn we te diep weggezonken in onze eigen bubbels. Die bubbels vertekenen de wereld. Deglobalisering is een zegen voor wie geen zin meer heeft om zich iets aan te trekken van de problemen op andere continenten. En levert deglobaliseren minder groei op? Prima, 'wij' zijn toch rijk genoeg?  Dat 'wij' gaat over steeds minder mensen. Influenza leert dat 'wij' ons helemaal niet zoveel zorgen maken. Ook honderdduizenden doden per jaar went, zolang die doden maar niet te veel op ons lijken. Rosanne Hertzberger is microbioloog Corona laat zien: wij denken alleen aan onszelf. Als kind van mijn tijd ben ook ik schuldig  Notes  Rosanne Hertzberger is microbioloog   Classification   Language: DUTCH; NEDERLANDS   Publication-Type: Krant   Subject: Epidemics (94%); Viruses (94%)   Load-Date: March 2, 2020   \n",
      "     de Volkskrant 2 maart 2020 maandag   Copyright 2020 De Persgroep Nederland BV All Rights Reserved   Section: Ten Eerste; Blz. 1 Length: 572 words Byline: MAARTEN KEULEMANS Highlight: De uitbraak van het coronavirus in Nederland is in een nieuwe fase gekomen. Voor het eerst zijn er enkele Nederlanders besmet geraakt zonder dat er een duidelijk lijntje loopt van hen naar een van de risicogebieden in het buitenland. Het totale aantal Nederlandse patiënten lag zondagavond op tien.   Body   Tien patiënten in Nederland Bij de zes eerdere gevallen, in Tilburg en Amsterdam, ging het om reizigers en hun gezinsleden die in de Noord-Italiaanse provincie Lombardije waren geweest, in het gebied waar het virus al meer dan duizend mensen heeft besmet. Maar van de vier nieuw ontdekte patiënten - in Delft, Gorinchem, Coevorden en de omgeving van Tilburg - is alleen die uit Delft in Italië geweest. De drie anderen lijken het coronavirus in Nederland te hebben opgelopen.   De gezondheidsdienst RIVM reageert met stevige maatregelen. Ten eerste wordt nu heel Noord-Italië bestempeld tot risicogebied. Wie er op vakantie is geweest en thuis lichte hoestklachten krijgt, wordt met klem aangeraden thuis te blijven om te zien of de klachten verergeren. Mocht men ook koorts krijgen of benauwd worden dan is het tijd om de huisarts te bellen: zelf langsgaan raadt het RIVM af. Dat geldt ook voor mensen die zijn teruggekeerd uit Zuid-Korea, Iran of China.   In Gorinchem is intussen het Beatrixziekenhuis tijdelijk op slot gegaan: geen nieuwe opnames, geen bezoek. In het ziekenhuis heeft een vrouw gelegen met een longontsteking die veroorzaakt blijkt door het coronavirus. De vrouw is inmiddels in isolatie opgenomen in het Erasmus MC in Rotterdam. Het ziekenhuis in Gorinchem is gesloten om nu eerst uit te zoeken of de vrouw andere patiënten of personeelsleden heeft besmet.   Het RIVM probeert intussen te achterhalen of de drie nieuwe patiënten zonder link met het buitenland iemand in hun directe omgeving hebben die in een van de risicogebieden is geweest. Opvallend is dat de patiënt uit Coevorden en die uit de omgeving van Tilburg, zonder elkaar te kennen, beiden carnaval hebben gevierd in Tilburg. 'De meest logische verklaring is dat een onbekend iemand beiden heeft besmet', zei hoofd infectieziektenbestrijding Jaap van Dissel van het RIVM zondagmiddag.   Dat kan betekenen dat er tijdens het carnaval in Tilburg een tot dusver onbekende coronapatiënt rondliep die meerdere mensen heeft besmet. Maar van een 'carnavalsuitbraak' is volgens het RIVM geen sprake. Zo zijn bij de ziekenhuizen in het gebied geen verdachte gevallen van longontsteking binnengekomen, en hebben de huisartsen geen alarm geslagen. 'Een aantal van hen bemonsteren mensen met griepklachten, om het verloop van de griep in de gaten te houden', zegt Van Dissel.   Dat de nieuwe patiënten zelf weer anderen hebben besmet tijdens het carnaval, ligt niet voor de hand. De patiënten kregen hun klachten pas ruim daarna. En wie niet hoest of niest, scheidt, naar men aanneemt, nog geen virusdeeltjes af.   Vlak voor het weekeinde kwamen in ons land de eerste coronagevallen aan het licht: een man in Loon op Zand die een leermarkt had bezocht in Lombardije en zijn vrouw en kind, en een vrouw in Amsterdam die ook terugkwam uit Noord-Italië en haar gezinsleden besmette. Voor zover bekend maken al deze patiënten het goed.   Er worden nu zo'n vijftig Nederlanders getest op het virus, maakte minister voor medische zorg Bruno Bruins gistermiddag bekend op een haastig bijeengeroepen persbijeenkomst bij het RIVM. 'Maar als je kijkt naar hoe de uitbraak in andere Europese landen verloopt, denk ik dat we zo realistisch moeten zijn dat er in Nederland ook nog wel meer gevallen zullen optreden', zegt Van Dissel.   pagina 6-7   De hostie mocht deze zondag niet op de tong Volgens het RIVM is er geen sprake van een carnavalsuitbraak  Bekijk de oorspronkelijke pagina:  Classification   Language: DUTCH; NEDERLANDS   Publication-Type: Krant   Subject: Viruses (94%); Infectious Disease (82%); Public Health (78%); Epidemics (76%); Health Care Professionals (74%); Bacteria (69%)   Industry: Livestock Disease (70%); Pharmaceuticals Agents + Products (62%)   Load-Date: March 1, 2020   \n",
      "     NRC Handelsblad 29 februari 2020 zaterdag, 1ste Editie   Copyright 2020 NRC Media B.V. All Rights Reserved   Section: IN HET NIEUWS; Blz. 6 Length: 603 words Byline: Frederiek Weeda Dateline: Tilburg  Body   ABSTRACT Reportage           Elisabeth/Tweesteden           Alles is onder controle, benadrukken autoriteiten in Amsterdam en Tilburg. Bewoners nemen voorzorgsmaatregelen. VOLLEDIGE TEKST: 'Het ziekenhuis is veilig, kom gerust. Er is geen reden tot paniek\",  zegt microbioloog Jean-Luc Murk. Het is business as usualin het Elisabeth/Tweesteden Ziekenhuis, waar de eerste coronapatiënt van Nederland is opgenomen. Een 56-jarige inwoner van Loon op Zand ligt sinds woensdag in het Tilburgse ziekenhuis. Hij had zichzelf gemeld, met griepverschijnselen. Hij was recent in Noord-Italië geweest. Donderdagavond bleek na twee tests dat hij besmet is.  De patiënt maakt het inmiddels goed, zegt burgemeester Theo Weterings van Tilburg, en mag waarschijnlijk snel naar huis.  Ook de directeur van de lokale GGD, Ariene Rietveld, onderstreept dat alles onder controle is. ,,We hebben vandaag nauwgezet uitgezocht met wie meneer nog contact heeft gehad nadat hij 25 februari ziek werd. Met die mensen, een twintigtal, is contact opgenomen. Elke dag moeten ze hun temperatuur opnemen en contact met ons opnemen.\" Pas bij koorts en ziekteverschijnelen - zoals hoesten en benauwdheid - worden ze besmettelijk voor anderen, zegt Rietveld. En pas dan zullen  zij een test ondergaan.  De autoriteiten stralen welbewust rust uit  maar dat neemt niet weg dat het coronavirus in Tilburg en Loon op Zand het gesprek van de dag is. In de hal van het Elisabeth/Tweesteden Ziekenhuis heeft iedereen het erover: ,,Amsterdam, Diemen\", gonst het eind van de ochtend. Dan is net bekend geworden dat ook daar een met corona besmette patiënt is aangetroffen. Een medewerker van het Amsterdam UMC, een vrouw, die thuis geïsoleerd mag wachten tot het voorbijgaat. Ook zij was net terug uit Noord-Italië.  Uit de hoofdingang van het Amsterdam UMC komen Ronan (16) en Syon (20) met mondkapjes op. ,,We zitten hier in de buurt op school en hoorden dat je bij de balie van het ziekenhuis de kapjes gratis kunt krijgen\", vertelt Ronan. ,,Dus ik dacht: waarom niet? Gewoon uit voorzorg\".  'Weinig aan de hand' Het ziekenhuis wil niet dat bezoekers worden bevraagd over het virus. ,,Je kunt hier niet zomaar komen interviewen\", zegt de beveiliger. ,,We willen geen onrust veroorzaken onder patiënten\". zegt persvoorlichter Marc van den Broek. Volgens hem is er niet zoveel aan de hand. ,,De coronapatiënte heeft een coördinerende, administratieve functie, waarbij ze maar met een beperkt aantal collega's in contact komt en niet met patiënten.\"  In de hal van het Tilburgse ziekenhuis is het druk. De oude vrouw met de rollator, haar man, de patiënt op het bankje die leunt op zijn stok, de hoogzwangere vrouw die aan de arm van haar man naar binnen loopt, de bewaking, de receptie, de mensen in het doorzichtige rookhok buiten - vrijwel iedereen praat over corona. Over mondkapjes (,,zinloos\"), de media (,,vervelend\"), contactonderzoek (,,gebeurt hoor\") en dat er geen reden is om je druk te maken.  Cameraploegen In Loon op Zand, eerder vrijdagochtend, waren de bewoners aan het wennen van hun plotselinge roem. Er liepen cameraploegen door het historische dorp, van lokale, landelijke en zelfs buitenlandse zenders. De bewoners maakten grappen - ,,het café doet goeie zaken voor een vrijdagochtend!\" - maar ze vonden het ook ongemakkelijk. Vrijwel iedereen kent de lokale ondernemer die nu besmet is. Ze vinden dat hij beschermd moet worden.  En tegelijk sluipt de voorzichtigheid er al in. In het Kruidvat - waar de desinfecterende gel inmiddels is uitverkocht - maken de cassières na elke betaling de pinautomaat schoon. Met medewerking van Denise Retera  Notes  Met medewerking van Denise Retera   Graphic    Camera's voor de deuren van de huisartsenpraktijk in het dorp Loon op Zand, waar de eerste coronabesmetting werd gemeld. Foto Merlin Daleman Classification   Language: DUTCH; NEDERLANDS   Publication-Type: Krant   Subject: Health Care Facilities (94%); Health Care Professionals (92%); Epidemics (75%); Viruses (68%)   Load-Date: March 2, 2020   \n",
      "      NRC Handelsblad 28 februari 2020 vrijdag, 1ste Editie   Copyright 2020 NRC Media B.V. All Rights Reserved   Section: OPINIE; Blz. 18 Length: 654 words Byline: Luuk van Middelaar Body   Nu het coronavirus na Italië de rest van Europa bereikt en kennelijk bij Sittard voor de grens staat, zullen we gauw merken: houdt Nederland het hoofd koel? De uitdaging is het gevoel voor verhoudingen te bewaren - tussen paniek over een 'nieuwe horrorziekte' en dedain voor een 'griepvariantje'. We weten dat het coronavirus erg besmettelijk is maar minder dodelijk dan ebola of SARS. In China ligt het sterftecijfer rond de 2 procent, terwijl in Nederland vorig jaar op 400.000 griepgevallen zo'n 2.900 mensen overleden,  oftewel 0,75 procent: corona als griep-plus.  Toch zal cijfermatige nuchterheid het pleit niet winnen zolang om Covid-19, de longziekte die dit nieuwe coronavirus veroorzaakt, zoveel mysterie hangt - sterven er ook gezonde volwassenen, kunnen kinderen veilig naar school, is een hand geven taboe? Angst voor het onbekende draait ons een loer. Die laat zich niet met statistieken wegpraten, want zit ook ingebakken in de taal. In het spreken over ziekte en gezondheid zijn oorlog en vrede nooit ver weg. Een virus komt als indringer overal doorheen, beter dan bacteriën, zag ontdekker Dimitri Ivanovski in 1892. Tevens kan het zichzelf vermenigvuldigen door meegebrachte informatie keer op keer te laten afspelen, weten we sinds de jaren 1950 (reden van de latere term 'computervirus'). Dit maakt een virus tot spion die door de linies komt, een vijandige propagandist die zijn boodschap onder het volk brengt - een ironische tegenstander voor de Chinese controlestaat, zo merkte een Duitse krant op. Hoewel de leiding in Beijing beweert dat er buiten de provincie Hubei nauwelijks gevallen bijkomen, zal deze insluiper de mondiale gemoedsrust beproeven tot er een vaccin is. We willen ontmaskering. Hoezeer taal en metaforen ons gedrag inzake ziekte bepalen is weergaloos gefileerd door Susan Sontag in Illness as Metaphor (1979). Lang opgevat als goddelijke straf voor een stad of samenleving, kregen ziektes vanaf 1800 een individuele duiding. Zo gold tuberculose - met lijders als Shelley, Keats en Chopin - als teken van een gepassioneerde geest die het lijf 'verteerde', tot de ontdekte tbc-bacil zulke fantasieën een halt toeriep. Sontag beschouwt kanker, even mysterieus, als opvolger van tbc: ook daar kleeft de enkele patiënt een oordeel aan, straf voor ongezond leven of ,,opgekropte emotie\".  Vanwege deze individuele schuldtoewijzing moraliseren we grote epidemieën vandaag niet, aldus Sontag in een later essay over het aidsvirus. Corona is niet de toorn van God. Dus resteert het klassieke verwijt dat de epidemie van buiten komt. Syfilis heette ooit French pox in het Engels, morbus Germanicus in Parijs en de 'Chinese ziekte' voor de Japanners. De buren hebben het gedaan. Idem voor de moderne plagen: aids en ebola uit Afrika; SARS en Covid-19 uit Azië. (Liefst vergeten wij dat wij ook zelf ziektes overbrengen, zoals Europese kolonisten met pokken, griep en cholera ooit Amerika en Australië decimeerden.)  Racisme is hier nooit ver weg. Zodoende reageerde Beijing als door een wesp gestoken op een kop in de Wall Street Journal waarin het de ,,zieke man van Azië\" werd genoemd. Drie WSJ-journalisten werden als straf het land uitgestuurd, waarna de Amerikaanse minister van Buitenlandse Zaken Mike Pompeo China de les las over persvrijheid, in het giftigste Amerikaans-Chinese incident in de coronacrisis tot nu toe. Zo bezien is het een mentale overwinning voor Beijing dat enkele Chinese steden deze week maatregelen namen tegen bezoekers uit buurland Zuid-Korea, vanwege de Covid-19-uitbraak daar. Met deze omkering van dader en bron naar (tevens) slachtoffer haalt het land zichzelf uit de beklaagdenbank. Ook dat leert Sontag: hoe minder de ziekte een verhaal van schuld en boete is, hoe beter te bestrijden. Luuk van Middelaar is politiek filosoof en hoogleraar Europees recht (Leiden). Syfilis heette ooit French pox in het Engels,  en de 'Chinese ziekte' voor de Japanners  Notes  Luuk van Middelaar is politiek filosoof en hoogleraar Europees recht (Leiden).   Classification   Language: DUTCH; NEDERLANDS   Publication-Type: Krant   Subject: Epidemics (94%); Viruses (77%); Diseases + Disorders (71%); Ebola Virus Disease (63%); Infectious Disease (63%)   Load-Date: February 28, 2020   \n",
      "     de Volkskrant 27 februari 2020 donderdag   Copyright 2020 De Persgroep Nederland BV All Rights Reserved   Section: Economie; Blz. 28 Length: 502 words Body   De kwestie Peter de Waard Een van de hardnekkige misverstanden is dat een lage economische groei goed en een diepe crisis zelfs geweldig zou zijn voor het milieu. Nogal wat milieu-activisten kraaien van plezier over de dalende beurskoersen van dit moment die een voorbode kunnen zijn van een mogelijke recessie. Dus het corona-virus komt eigenlijk voor het milieu wel goed uit.   Greta Thunberg zei vorig jaar dat ze niet wil dat 'we hoop bieden voor een betere toekomst met minder uitstoot', maar dat 'we panikeren of ons eigen huis in brand staat'. Dat gebeurt nu eindelijk door corona. Paniek is er volop. De wereld staat niet in brand, maar verkeert al wel in quarantaine. Niemand durft meer in een vliegtuig te stappen of vakantie te vieren op een cruiseboot. Spullen die nu nog helemaal van de andere kant van de wereld komen, moeten we direct zelf weer gaan maken. Nog een jaar het corona-spook en we produceren en kopen alles weer lokaal. De zeespiegel stijgt niet meer, net als de afbrokkeling van de gletsjers op de polen. De winkel op de hoek heeft een nieuwe toekomst. Misschien is zelfs een Elfstedentocht weer mogelijk, zij het lokaal met alleen Friezen want de rest mag niet komen.   Helaas is de werkelijkheid minder mooi dan gedacht. Een recessie zal ook leiden tot een afname van de welvaart. Hoe dieper de recessie, hoe meer bedrijven sluiten en hoe groter het verlies aan banen.   Het Planbureau voor de Leefomgeving stelde bij de vorige recessie in 2009 dat die misschien goed was op de korte termijn omdat er minder CO2 werd uitgestoten vanwege minder productie en minder transport, maar dat het op lange termijn schadelijk is.   Recessie verlangzaamt duurzame investeringen. Banken zullen veel moeilijker kredieten geven aan bedrijven die nieuwe milieuvriendelijke technieken ontwikkelen. Daarnaast dalen de prijzen van fossiele brandstoffen en CO2-rechten waardoor duurzame energie zoals wind en zon minder concurrerend wordt.   Vele initiatieven voor een duurzamere samenleving worden in de kiem gesmoord. Overheden verplaatsen hun prioriteiten, want mensen willen nu eenmaal eerst werk, eten en de zekerheid van zorg. Kolencentrales gaan niet langer dicht, maar worden langer in bedrijf gehouden of zelfs geopend. In veel landen zullen kolen het alternatief zijn voor olie en gas als dat niet langer van verre kan komen. Op grote schaal zal kunstmest moeten worden gebruikt om de voedselvoorziening op peil te houden. In ontwikkelingslanden zal hout weer worden verbrand voor verwarming en het maken van eten waardoor CO2 vrijkomt in plaats van dat er producten van worden gemaakt waarin CO2 is opgeslagen.   Een echt goed saldo van de duurzaamheidseffecten van recessies op korte en lange termijn is nog nooit gemaakt. Maar als die er zou zijn, dan zal ook de groene lobby misschien minder blij zijn met corona dan dat ze nu zegt te zijn.   Reageren?   Op korte termijn is er minder uitstoot maar op lange termijn is het effect schadelijk  Bekijk de oorspronkelijke pagina:  Classification   Language: DUTCH; NEDERLANDS   Publication-Type: Krant   Subject: Emissions (94%); Pollution + Environmental Impacts (88%); Recession (80%); Economic Crisis (62%)   Industry: Alternative + Renewable Energy (77%); Coal Industry (69%); Oil + Gas Industry (62%)   Load-Date: February 26, 2020   \n",
      "      NRC Handelsblad 28 februari 2020 vrijdag, 1ste Editie   Copyright 2020 NRC Media B.V. All Rights Reserved   Section: IN HET NIEUWS; Blz. 2 Length: 479 words Byline: Christiaan Weijts Body   Wat hebben webwinkels als Koopmondkapjes.nl, Mondmasker-kopen.nl, Mondkapjeswinkel.nl en Oxymask.nl met elkaar gemeen? Dat ze mondkapjes verkopen voor tien à twintig euro per stuk. En dat ze allemaal eind januari, begin februari zijn opgericht. Een simpele check van de domeinnaam volstaat om ze te ontmaskeren. Ja, het ideetje is ,,aan de keukentafel ontstaan\", erkent de man die een 'anti-Corona mondkap' aanbiedt op Virusbeschermers.nl. Sinds 28-01-2020. Twee stuks voor  22,95 euro. 'Door RIVM aanbevolen type'. Het oogt professioneel: medisch logootje, eerste hit bij Google. Gewoonlijk heeft hij dan ook een bedrijfje dat websites bouwt. ,,En we kijken altijd wat de kansen zijn op de markt. We zijn nu duizenden bestellingen aan het verwerken.\" Dan zou ik wel eens langs willen komen, vertel ik aan de telefoon. De hectiek van zo'n magazijn in actie zien, in zijn schuurtje in Ridderkerk. ,,Dat hebben we uitbesteed,\" antwoordt hij. ,,De eerste drie, vier dagen stonden we zelf alles nog in te pakken, met kromme rug. Nu doet een andere partij dat, met meer ruimte.\" Zijn naam wil hij niet geven, dat vindt hij ,,een beetje plat\". Plat? ,,Nou ja, ik heb hier ook al wat bedreigingen binnengekregen. Van mensen die vinden dat ik een profiteur ben.\" Is dat niet een beetje zo, met die hoge prijs? ,,De prijzen lopen wereldwijd de pan uit. Ik heb te maken met allerlei tussenpartijen. En munt slaan uit angst? Daar is alles op gebaseerd. Autoverzekeringen, heel de farma-industrie... Moeten we die maskers soms gratis gaan uitdelen?\" Aanbevolen door het RIVM? Beweert dat niet juist dat alleen medisch personeel zo'n kapje nodig heeft? ,,Het biedt natuurlijk nooit 100 procent bescherming, dat zeggen wij ook.\" Een paar uur na mijn telefoontje is die verwijzing veranderd: 'Door de WHO aanbevolen'. Nergens een merk of type, alleen een foto, die bij Google verder alleen als stockfoto en op Poolse sites voorkomt.  Je hoort deze dagen wel eens dat het onze Hollandse koopmansgeest is die ons terughoudender maakt dan andere landen met quarantaines en testen. Liever risico's trotseren dan handelslijnen blokkeren. Ik snap dat wel. Zoals ik me ook moeilijk kan voorstellen dat er bij ons wijken of dorpen zijn met Nederlanders die gedwee in huisarrest zouden gaan.  De angst kan wel eens schadelijker zijn dan het virus zelf. Hamsteren, Chinese restaurants mijden, evenementen afblazen: de panische hypochondrie verspreidt zich vooralsnog veel sneller over de globe dan al die Covid-19-bolletjes bij elkaar. Hollands realisme als stootkussen tegen een al te fatale beursval is dan welkom. Maar de kapjescowboys die schaamteloos parasiteren op die angst getuigen niet van de meest frisse kant van onze koopmansgeest.  Christiaan Weijts schrijft op deze plek iedere vrijdag een  column. Panische hypochondrie verspreidt zich sneller over de globe dan Covid-19-bolletjes  Notes  Christiaan Weijts schrijft op deze plek iedere vrijdag een column.   Classification   Language: DUTCH; NEDERLANDS   Publication-Type: Krant   Subject: Epidemics (80%); Health Care Professionals (75%); Viruses (75%); Trends (69%); Internet Social Networking (67%); Public Health (65%); Diseases + Disorders (65%); Medical Diagnostics, Screening + Testing (63%); Communities + Neighborhoods (61%)   Industry: Electronic Mail (93%); Computer Equipment (73%)   Load-Date: February 28, 2020   \n",
      "      NRC Handelsblad 29 februari 2020 zaterdag, 1ste Editie   Copyright 2020 NRC Media B.V. All Rights Reserved   Section: VOORPAGINA; Blz. 1 Length: 1472 words Byline: Kim Bos en Anne-Martijn van der Kaaden Dateline: Amsterdam  Body   ABSTRACT            Reactie op virus          Afgelaste evenementen, hamsteren in de supermarkt. Het coronavirus leidt tot angstige reacties. ,,Dit drukt zo'n beetje alle rode knoppen in.\" VOLLEDIGE TEKST:          Het Boshotel in het Limburgse Vlodrop moet een sereen ,,trefpunt in het groen\" zijn. Maar toen: ,,Appjes, mailtjes, telefoontjes, alles! Wát is er aan de hand, willen de mensen weten. Ze klimmen meteen in de pen.\"  Stella Corsten, manager van het hotel, is de afgelopen dagen bestookt met vragen. ,,Van mensen uit de omgeving, hotelgasten, of mensen die een reservering hebben.\"  Serieuze zorgen over het coronavirus in Nederland manifesteerden zich deze week in Vlodrop, toen bleek dat daar op 8 en 9 februari een Duits echtpaar was geweest dat een paar weken later werd gediagnostiseerd met Covid-19. De Duitsers vertoonden in Vlodrop nog geen ziekteverschijnselen en vormden daarom uiteindelijk geen risico, kon de GGD al snel vaststellen. Zelf heeft ze zich dus geen moment zorgen gemaakt, zegt Corsten. ,,Maar veel mensen lézen niet. Die zien alleen maar: er is een gast geweest en die is ziek. En dan raken ze in paniek.\" Er kwamen ,,tientallen\" afzeggingen.  En zo waren er tal van maatregelen die ondanks geruststellende adviezen van de GGD en het RIVM werden genomen.  Een Chinees restaurant in het Overijsselse Nieuwleusen hield de deuren ,,uit voorzorg\"  en op eigen initiatief twee weken dicht omdat de eigenaren in Hongkong waren geweest.  Romereizen van middelbare scholen zoals het Barlaeus Gymnasium in Amsterdam werden afgezegd.  Een kinderdagverblijf in Amsterdam-Zuidoost blijft voorlopig dicht omdat het coronavirus bij de moeder van een van de kinderen is vastgesteld.  En op de Erasmus Universiteit overwogen verschillende docenten om studenten te weigeren die in het ,,coronagebied\" waren geweest. In een brief aan de studenten noemde de voorzitter van het college van bestuur ,,het sentiment en de emoties\" die als gevolg van het coronavirus waren  ontstaan ,,een punt van zorg\". ,,Er zijn meldingen van studenten en medewerkers over bejegening.\" Leerlingen van een middelbare school uit Zeist maakten vlak nadat ze op uitwisselingsreis in Florence (200 kilometer onder het risicogebied) aangekomen waren alweer rechtsomkeert: de scholieren raakten ,,in paniek\"  door toenemende geruchten. De LaptopShop in het Forumgebouw van de Universiteit in Wageningen liet op een bordje weten dat ze geen persoonlijke eigendommen meer wilden aanraken.  Arts infectieziektebestrijding Loes Jaspers beantwoordt deze week de telefoon van de GGD in Utrecht. ,,Het aantal telefoontjes is in de loop van de week enorm toegenomen.\"  De meeste mensen bellen omdat ze bang zijn dat ze het virus hebben. Jaspers legt dan uit dat ze alleen getest kunnen worden als ze de verschijnselen (koorts met hoesten of kortademigheid) hebben én in het risicogebied zijn geweest of in aanraking zijn gekomen met iemand die het coronavirus draagt. ,,We stellen mensen gerust. De kans dat iemand het heeft is echt heel klein, zeggen we.\"  Meestal werkt dat.  ,,We begrijpen de bezorgdheid, maar paniek is niet nodig\", zei arts infectieziektebestrijding Anja Schreijer eerder deze week namens de Gemeentelijke Gezondheidsdiensten. De GGD en het Rijksinstituut voor Volksgezondheid en Milieu (RIVM) bleven de belangrijkste maatregelen herhalen: handen wassen, niezen in de elleboog en zo min mogelijk aan het gezicht zitten.  Gedroogde peulvruchten ,,Het leek wel Kerstmis in de supermarkt\", zegt Martine Iedema (43) uit Nijmegen, die in een besloten Facebook-groep over het coronavirus praat met andere bezorgde Nederlanders. Zelf kocht ze: drie extra zakken gedroogde peulvruchten van 500 gram, een zak witte rijst, een zak bruine rijst en 24 rollen wc-papier. ,,Voor de zekerheid.\"  Het hamsteren vanwege het coronavirus is begonnen, merkt ook Kruidvat. De drogist laat weten dat er vijf keer zoveel  desinfecterende handgel wordt verkocht dan normaal. Online supermarkt Picnic heeft een limiet van 150 euro gezet op het bedrag waarvoor boodschappen besteld mogen  worden, omdat ze willen dat ,,iedereen boodschappen kan halen\", zegt topman Michiel Muller. Ze merken dat mensen ruim inslaan. ,,Er wordt ook meer babyvoeding, bruine bonen en witte bonen in tomatensaus gekocht.\" In speciaal opgerichte Facebook-groepen geven bezorgde Nederlanders elkaar advies. ,,Gebruik de Thaise 'wai' om iemand te groeten\", adviseert iemand (handpalmen tegen elkaar, lichtte buiging). Een ander: ,,Wij geven elkaar de elleboog.\"   De GGD in Zuid-Limburg heeft de gemeenten langs de Duitse grens geadviseerd alle publieksevenementen komend weekeinde af te gelasten, met het oog op het coronavirus. Volgens een medewerker van de veiligheidsregio is dat ,,uit voorzorg vooral, gezien de grote toename van besmette personen\".   'Reacties begrijpelijk' Paul Slovic, hoogleraar psychologie aan de Universiteit van Oregon en auteur van het standaardwerk The perception of risk  noemt de reacties van mensen op het coronavirus begrijpelijk. ,,Een van de dingen die we weten over hoe risicoperceptie werkt, is dat we ons meer zorgen maken over dingen die nieuw en onbekend zijn.\"  Bij het coronavirus worden volgens Slovic bij mensen zo'n beetje alle rode knoppen (,,hot buttons\") ingedrukt: ,,Het kan fataal zijn, het is onzichtbaar, je kunt je er moeilijk tegen beschermen, iedereen kan eraan worden blootgesteld en het is onduidelijk of de autoriteiten de situatie onder controle hebben.\"  Ons brein heeft twee systemen om informatie te verwerken, zegt hij, ,,het intuïtieve 'onderbuikgevoel' en het analytische\". Voor risicoperceptie vertrouwen we vooral op het eerste systeem, we worden dus meestal geleid door gevoelens. En waarom boezemt bijvoorbeeld de griep, waaraan jaarlijks zo'n 2.000 Nederlanders overlijden, ons dan minder angst in? Bij griep, zegt Slovic, weten we hoe bezorgd we moeten zijn op basis van onze ervaringen. 'Ach, je wordt een paar dagen ziek en het gaat waarschijnlijk vanzelf weer over'. Wanneer iets onbekend is, moeten we vertrouwen op de informatie die we krijgen van buitenaf. In dit geval bestaat die informatie eruit dat de situatie verslechtert, dat het virus zich verspreidt en dat er artsen rondlopen in astronautenpakken.\"  Verslagen in de media gaan voornamelijk over verdere verspreiding en dodelijke slachtoffers. ,,Er wordt meestal niet gezegd hoeveel mensen genezen.\" Het is niet alleen de ziekte die tot zorgen leidt, zegt Slovic. ,,Mensen kunnen ook bang zijn voor de sociale, politieke en economische gevolgen van zo'n virus. En terecht.\"  Martine Iedema uit Nijmegen doet de extra boodschappen omdat ze vreest dat haar wijk wordt afgesloten van de buitenwereld, of ze onverhoopt in quarantaine moet. ,,Ik ben alleenstaand, nu heb ik alvast alles in huis.\"  Er wordt  meer babyvoeding, bruine bonen en witte bonen in tomatensaus ingeslagen            Coronavirus Het laatste nieuws Nieuwe klachten Meerdere familieleden van de Amsterdamse vrouw die besmet is met het coronavirus, hebben net als zij ,,milde klachten\". De drie kinderen en partner van de vrouw zijn getest op het virus, de uitslag hiervan zal uiterlijk zaterdagochtend worden bekendgemaakt. Dat zeiden de Amsterdamse en Diemense burgemeesters Femke Halsema en Erik Boog en de Amsterdamse afdeling van de GGD op een persconferentie vrijdagavond. De vrouw zit momenteel in thuisisolatie in Diemen, waar zij tijdelijk woont omdat haar huis in Amsterdam verbouwd wordt. De vrouw is vorige week in Noord-Italië geweest, waar ze het virus waarschijnlijk heeft opgelopen. Bloedbank past beleid aan De Nederlandse bloedbank Sanquin gaat de richtlijnen voor het doneren van bloed opnieuw bespreken nu het coronavirus in Nederland is opgedoken. Mogelijk zullen er veranderingen plaatsvinden, meldt de bloedbank. Volgens de huidige richtlijnen mogen mensen die buiten Europa zijn geweest vier weken geen bloed doneren. Hiermee zullen besmettingen vanuit China uitblijven. Ook mogen donoren die griepverschijnselen hebben nu al geen bloed geven. Toch kijkt de organisatie of de regels wel voldoende zijn om besmetting tegen te gaan. Italië: dodental loopt op Vrijdag zijn opnieuw vier mensen in Italië gestorven aan het coronavirus. Hiermee loopt het dodental in het Zuid-Europese land op tot 21. Ook is het aantal besmettingen in Italië flink opgelopen: van 650 donderdag naar 888 vrijdag. Dat meldt persbureau Reuters op basis van de autoriteiten. China: minder besmettingen De afgelopen 24 uur zijn in China 329 nieuwe besmettingen vastgesteld met het coronavirus dat Covid-19 veroorzaakt. Dat is het laagste aantal in meer dan een maand. Dat maakte directeur-generaal Tedros Adhanom Ghebreyesus van de Wereldgezondheidsorganisatie vrijdag bekend. Sinds het begin van de uitbraak zijn in China 78.959 besmettingen gemeld, daarbuiten zijn 4.351 gevallen bekend.   Graphic    In het Duitse Herzogenrath is een geval van het coronavirus vastgesteld. Foto MARCEL VAN HOORN/ ANP Classification   Language: DUTCH; NEDERLANDS   Publication-Type: Krant   Subject: Viruses (94%); Epidemics (87%); Public Health (63%); Infectious Disease (62%)   Load-Date: March 2, 2020   \n",
      "     de Volkskrant 28 februari 2020 vrijdag   Copyright 2020 De Persgroep Nederland BV All Rights Reserved   Section: Ten Eerste; Blz. 1 Length: 65 words Body   Voor het eerst is er een geval van besmetting met het nieuwe coronavirus vastgesteld in Nederland. Het betreft een 56-jarige man uit Loon op Zand. Hij ligt nu in quarantaine in het Elisabeth-TweeStedenziekenhuis in Tilburg. Minister van Medische Zorg Bruno Bruins maakte dit bekend op tv. De man is kortgeleden in Noord-Italië geweest, aldus het RIVM.  Bekijk de oorspronkelijke pagina:  Classification   Language: DUTCH; NEDERLANDS   Publication-Type: Krant   Subject: Viruses (84%); Public Health (78%); Animals (68%); Infectious Disease (62%)   Industry: Livestock Disease (94%); Agriculture (62%)   Load-Date: February 27, 2020   \n",
      "     de Volkskrant 28 februari 2020 vrijdag   Copyright 2020 De Persgroep Nederland BV All Rights Reserved   Section: Sport; Blz. 30 Length: 466 words Byline: JOHN VOLKERS Highlight: Geen sportbestuurder is bereid paniek aan te wakkeren over het al dan niet doorgaan van de Olympische Zomerspelen van Tokio. De verspreiding van het coronavirus covid-19, wordt met gezonde zorg bezien, maar wat die crisis over een kleine 150 dagen voor effect zal hebben op het grootste sportevenement ter wereld, is niet te voorzien. Dan past terughoudendheid.   Body   Thomas Bach, de voorzitter van het IOC, het Internationaal Olympisch Comité, verklaarde deze week tegenover Japanse media alle vertrouwen te hebben dat het deze zomer 'gaat lukken'. 'Voorlopig ga ik ervan uit dat we straks in Tokio een fantastisch evenement zullen beleven.'   De Japanse organisatiechef Toshiro Muto wilde het niet eens hebben over de mogelijkheid dat het virus het doorgaan van het olympische en paralympische evenement zou verhinderen. Zijn organisatiecomité zou daar in het geheel niet mee bezig zijn.   De Olympische Spelen, een zeventiendaags evenement, vangen aan op 24 juli. De Paralympische Spelen in Tokio staan voor twaalf dagen na 25 augustus genoteerd. Het budget wordt geschat tussen 12- en 23 miljard euro.   Bach, sinds 2013 de IOC-chef, reageerde mogelijk op woorden van zijn seniorlid, de Canadees Dick Pound. Die zit sinds 1978 in het IOC en staat bekend om zijn uitgespraken.   Pound bracht een termijn aan, waarin volgens hem de beslissing over het al dan niet doorgaan van de Spelen zal moeten worden genomen. Drie, ten minste twee maanden voor 24 juli moet beslist worden over het lot van de Tokio-Spelen.   Tegen het Amerikaanse persbureau AP zei Pound: 'Rond die tijd zullen de mensen zeggen: is de zaak voldoende onder controle om naar Tokio te gaan? Of niet?'   Want twee maanden voordat de Spelen beginnen moeten de directe voorbereidingen aanvangen, weet de ervaren bestuurder. Hij was kandidaat-voorzitter in 2001 toen de Belg Jacques Rogge werd gekozen. Vanaf dat moment wordt de veiligheidszone opgetuigd, gaat het olympisch dorp open en worden de studio's voor de vele tv-zenders gebouwd. Dan is er geen weg terug meer.   Als de Spelen niet doorgaan op de originele datum, aldus de stellige Pound, dan kunnen zij beter in hun geheel gecanceld worden. Doorschuiven naar een later moment of een ander jaar past niet in de tv-schema's en sportkalenders. Op meerdere plaatsen een van de 28 olympische sportonderdelen afwerken is volgens het Canadees ook geen optie.   Tussen al die woorden door werd deze week het ene na het andere sportevenement in Azië afgelast. Zo vielen de WK shorttrack en de WK tafeltennis (teams) in respectievelijk Zuid-Korea en China voorlopig van de kalender. Tafeltennis gaat zeker naar eind juni. Voor de gedupeerde shorttrackers is het een kwestie van afwachten.   In Japan gaan scholen dicht, worden voor twee weken alle sportieve en culturele evenementen afgelast en ligt de voetbalcompetitie in de J-League stil. Over de doorgang van de toortsloop met het olympische vuur wordt gedelibereerd. De tocht die massa's mensen op de been breng, start op 26 maart, gaat door 859 steden en duurt 121 dagen. Inkorting wordt verwacht. Uitstellen Spelen is gezien sport en tv-schema's geen realistische optie  Bekijk de oorspronkelijke pagina:  Classification   Language: DUTCH; NEDERLANDS   Publication-Type: Krant   Subject: Sports + Recreation (94%); Sports + Recreation Events (73%); Olympics (69%); Tournaments (61%)   Load-Date: February 27, 2020   \n",
      "\n"
     ]
    }
   ],
   "source": [
    "for doc in splitted_text[0]:\n",
    "    print(doc)"
   ]
  },
  {
   "cell_type": "code",
   "execution_count": 293,
   "metadata": {},
   "outputs": [
    {
     "ename": "IndentationError",
     "evalue": "expected an indented block (<ipython-input-293-d2963f60ab69>, line 6)",
     "output_type": "error",
     "traceback": [
      "\u001b[0;36m  File \u001b[0;32m\"<ipython-input-293-d2963f60ab69>\"\u001b[0;36m, line \u001b[0;32m6\u001b[0m\n\u001b[0;31m    def parse_ln(string_of_documents):\u001b[0m\n\u001b[0m      ^\u001b[0m\n\u001b[0;31mIndentationError\u001b[0m\u001b[0;31m:\u001b[0m expected an indented block\n"
     ]
    }
   ],
   "source": [
    "import re\n",
    "\n",
    "for doc in splitted_text:\n",
    "    \n",
    "def parse_ln(string_of_documents):\n",
    "    newspaper = []\n",
    "    date = []\n",
    "    text = []\n",
    "    for line in doc:\n",
    "        matchObj1=re.match(\" +([a-zA-Z\\s]+?) \\d+\",line)\n",
    "        try matchObj1:\n",
    "            newspaper.append(matchObj1.group(1))\n",
    "        except: \n",
    "            newspaper.append(\"NaN\")\n",
    "        matchObj2 = re.match(r\".*(\\d{1,2}) ([jJ]anuari|[fF]ebruari|[mM]aart|[aA]pril|[mM]ei|[jJ]uni|[jJ]uli|[aA]ugustus|[sS]eptember|[Oo]ktober|[nN]ovember|[dD]ecember) (\\d{4}).*\", line)\n",
    "        if matchObj2:\n",
    "            day = matchObj2.group(1) \n",
    "            month = matchObj2.group(2) \n",
    "            year = matchObj2.group(3) \n",
    "            date.append( (day, month, year ) )\n",
    "        matchObj3=re.match(\".*Body(.*) Classification\",line)\n",
    "        if matchObj3:\n",
    "            text.append(matchObj3.group(1).strip())\n",
    "    return newspaper, date, text\n",
    "        \n",
    "              # matchObj.string\n",
    "\n",
    "for doc in splitted_text:\n",
    "\n",
    "parse_ln(doc)"
   ]
  },
  {
   "cell_type": "code",
   "execution_count": 407,
   "metadata": {},
   "outputs": [
    {
     "ename": "TypeError",
     "evalue": "object of type 'bool' has no len()",
     "output_type": "error",
     "traceback": [
      "\u001b[0;31m---------------------------------------------------------------------------\u001b[0m",
      "\u001b[0;31mTypeError\u001b[0m                                 Traceback (most recent call last)",
      "\u001b[0;32m<ipython-input-407-bb0919822803>\u001b[0m in \u001b[0;36m<module>\u001b[0;34m\u001b[0m\n\u001b[1;32m     42\u001b[0m \u001b[0;32mfor\u001b[0m \u001b[0mi\u001b[0m \u001b[0;32min\u001b[0m \u001b[0mresults\u001b[0m\u001b[0;34m:\u001b[0m\u001b[0;34m\u001b[0m\u001b[0;34m\u001b[0m\u001b[0m\n\u001b[1;32m     43\u001b[0m     \u001b[0;32mfor\u001b[0m \u001b[0mk\u001b[0m\u001b[0;34m,\u001b[0m \u001b[0mv\u001b[0m \u001b[0;32min\u001b[0m \u001b[0mi\u001b[0m\u001b[0;34m.\u001b[0m\u001b[0mitems\u001b[0m\u001b[0;34m(\u001b[0m\u001b[0;34m)\u001b[0m\u001b[0;34m:\u001b[0m\u001b[0;34m\u001b[0m\u001b[0;34m\u001b[0m\u001b[0m\n\u001b[0;32m---> 44\u001b[0;31m         \u001b[0mprint\u001b[0m\u001b[0;34m(\u001b[0m\u001b[0mlen\u001b[0m\u001b[0;34m(\u001b[0m\u001b[0mk\u001b[0m \u001b[0;34m==\u001b[0m \u001b[0;34m'newspaper'\u001b[0m\u001b[0;34m)\u001b[0m\u001b[0;34m)\u001b[0m\u001b[0;34m\u001b[0m\u001b[0;34m\u001b[0m\u001b[0m\n\u001b[0m",
      "\u001b[0;31mTypeError\u001b[0m: object of type 'bool' has no len()"
     ]
    }
   ],
   "source": [
    "import re\n",
    "    \n",
    "def parse_nexis_uni(string_of_documents):\n",
    "    \n",
    "    parsed_results = []\n",
    "    \n",
    "    for line in string_of_documents:\n",
    "        \n",
    "        matchObj1=re.match(\" +([a-zA-Z\\s]+?) \\d+\",line)\n",
    "        \n",
    "        if matchObj1:\n",
    "            newspaper = matchObj1.group(1)\n",
    "        else: \n",
    "            newspaper = \"NaN\"\n",
    "        \n",
    "        matchObj2 = re.match(r\".*(\\d{1,2}) ([jJ]anuari|[fF]ebruari|[mM]aart|[aA]pril|[mM]ei|[jJ]uni|[jJ]uli|[aA]ugustus|[sS]eptember|[Oo]ktober|[nN]ovember|[dD]ecember) (\\d{4}).*\", line)\n",
    "        \n",
    "        if matchObj2:\n",
    "            day = matchObj2.group(1) \n",
    "            month = matchObj2.group(2) \n",
    "            year = matchObj2.group(3) \n",
    "            date = (day, month, year ) \n",
    "        else:\n",
    "            date = \"NaN\"\n",
    "            \n",
    "        matchObj3=re.match(\".*Body(.*) Classification\",line)\n",
    "        if matchObj3:\n",
    "            text = matchObj3.group(1).strip()\n",
    "        else:\n",
    "            text = \"NaN\"\n",
    "            \n",
    "        parsed_results.append( {'newspaper': newspaper, \n",
    "                       'date' : date, \n",
    "                       'text': text }  )\n",
    "\n",
    "    return parsed_results\n",
    "       \n",
    "\n",
    "results = []\n",
    "for document in splitted_text:\n",
    "    results.extend(parse_nexis_uni(document))\n",
    "\n"
   ]
  },
  {
   "cell_type": "code",
   "execution_count": null,
   "metadata": {},
   "outputs": [],
   "source": [
    "re.match(r\"\\s+(\\d{1,2}) (januari|februari|maart|april|mei|juni|juli|augustus|september|oktober|november|december) (\\d{4}) (maandag|dinsdag|woensdag|donderdag|vrijdag|zaterdag|zondag)\",\n",
    "        line,)"
   ]
  },
  {
   "cell_type": "code",
   "execution_count": null,
   "metadata": {},
   "outputs": [],
   "source": []
  }
 ],
 "metadata": {
  "kernelspec": {
   "display_name": "Python 3",
   "language": "python",
   "name": "python3"
  },
  "language_info": {
   "codemirror_mode": {
    "name": "ipython",
    "version": 3
   },
   "file_extension": ".py",
   "mimetype": "text/x-python",
   "name": "python",
   "nbconvert_exporter": "python",
   "pygments_lexer": "ipython3",
   "version": "3.7.2"
  }
 },
 "nbformat": 4,
 "nbformat_minor": 2
}
