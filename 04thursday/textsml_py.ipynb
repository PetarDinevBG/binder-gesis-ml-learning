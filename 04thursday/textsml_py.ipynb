{
 "cells": [
  {
   "cell_type": "code",
   "execution_count": 1,
   "metadata": {
    "tags": [
     "snippet:readimdb"
    ]
   },
   "outputs": [],
   "source": [
    "import os\n",
    "from glob import glob\n",
    "\n",
    "# unpack the dataset from https://ai.stanford.edu/~amaas/data/sentiment/aclImdb_v1.tar.gz and store the folder 'aclImdb' in the same folder as this script\n",
    "\n",
    "def read_data(dataset):\n",
    "    texts = []\n",
    "    labels = []\n",
    "    for label in ['pos', 'neg']:\n",
    "        for file in glob(os.path.join('aclImdb',dataset,label,'*.txt')):\n",
    "            with open(file) as f:\n",
    "                texts.append(f.read())\n",
    "                labels.append(label)\n",
    "    return texts, labels\n",
    "\n",
    "X_train_fulltext, y_train = read_data('train')\n",
    "X_test_fulltext, y_test= read_data('test')"
   ]
  },
  {
   "cell_type": "code",
   "execution_count": 2,
   "metadata": {
    "tags": [
     "snippet:imdbbaseline"
    ]
   },
   "outputs": [
    {
     "name": "stdout",
     "output_type": "stream",
     "text": [
      "[[10995  1505]\n",
      " [ 3003  9497]]\n",
      "              precision    recall  f1-score   support\n",
      "\n",
      "         neg       0.79      0.88      0.83     12500\n",
      "         pos       0.86      0.76      0.81     12500\n",
      "\n",
      "   micro avg       0.82      0.82      0.82     25000\n",
      "   macro avg       0.82      0.82      0.82     25000\n",
      "weighted avg       0.82      0.82      0.82     25000\n",
      "\n"
     ]
    }
   ],
   "source": [
    "from sklearn.naive_bayes import MultinomialNB\n",
    "from sklearn.feature_extraction.text import CountVectorizer\n",
    "from sklearn.metrics import confusion_matrix, classification_report\n",
    "\n",
    "vectorizer = CountVectorizer(stop_words='english')\n",
    "X_train = vectorizer.fit_transform(X_train_fulltext)\n",
    "X_test = vectorizer.transform(X_test_fulltext)\n",
    "\n",
    "nb = MultinomialNB()\n",
    "nb.fit(X_train, y_train)\n",
    "\n",
    "y_pred = nb.predict(X_test)\n",
    "\n",
    "print(confusion_matrix(y_test, y_pred))\n",
    "print(classification_report(y_test, y_pred))"
   ]
  },
  {
   "cell_type": "code",
   "execution_count": 3,
   "metadata": {
    "tags": [
     "snippet:basiccomparisons"
    ]
   },
   "outputs": [
    {
     "name": "stdout",
     "output_type": "stream",
     "text": [
      "NB with Count\n",
      "                \t precision \t recall\n",
      "positive reviews:\t 0.87 \t\t 0.77\n",
      "negative reviews:\t 0.79 \t\t 0.88\n",
      "\n",
      "\n",
      "NB with TfIdf\n",
      "                \t precision \t recall\n",
      "positive reviews:\t 0.87 \t\t 0.78\n",
      "negative reviews:\t 0.80 \t\t 0.88\n",
      "\n",
      "\n",
      "LogReg with Count\n",
      "                \t precision \t recall\n",
      "positive reviews:\t 0.87 \t\t 0.85\n",
      "negative reviews:\t 0.85 \t\t 0.87\n",
      "\n",
      "\n",
      "LogReg with TfIdf\n",
      "                \t precision \t recall\n",
      "positive reviews:\t 0.89 \t\t 0.88\n",
      "negative reviews:\t 0.88 \t\t 0.89\n",
      "\n",
      "\n"
     ]
    }
   ],
   "source": [
    "from sklearn import metrics\n",
    "from sklearn.feature_extraction.text import CountVectorizer, TfidfVectorizer\n",
    "from sklearn.naive_bayes import MultinomialNB\n",
    "from sklearn.linear_model import LogisticRegression\n",
    "\n",
    "def short_classification_report (y_test, y_pred):\n",
    "    print(\"                \\t precision \\t recall\")\n",
    "    print(\"positive reviews:\\t {:0.2f} \\t\\t {:0.2f}\".format(metrics.precision_score(y_test,y_pred, pos_label='pos'),\n",
    "                                                             metrics.recall_score(y_test,y_pred, pos_label='pos')))\n",
    "    print(\"negative reviews:\\t {:0.2f} \\t\\t {:0.2f}\".format(metrics.precision_score(y_test,y_pred, pos_label='neg'),\n",
    "                                                            metrics.recall_score(y_test,y_pred, pos_label='neg')))\n",
    "\n",
    "configurations = [('NB with Count', CountVectorizer(min_df=5, max_df=.5), MultinomialNB()),\n",
    "                 ('NB with TfIdf', TfidfVectorizer(min_df=5, max_df=.5), MultinomialNB()),\n",
    "                 ('LogReg with Count', CountVectorizer(min_df=5, max_df=.5), LogisticRegression(solver='liblinear')),\n",
    "                 ('LogReg with TfIdf', TfidfVectorizer(min_df=5, max_df=.5), LogisticRegression(solver='liblinear'))]\n",
    "\n",
    "for description, vectorizer, classifier in configurations:\n",
    "    print(description)\n",
    "    X_train = vectorizer.fit_transform(X_train_fulltext)\n",
    "    X_test = vectorizer.transform(X_test_fulltext)\n",
    "    classifier.fit(X_train, y_train)\n",
    "    y_pred = classifier.predict(X_test)\n",
    "    short_classification_report(y_test, y_pred)\n",
    "    print('\\n')"
   ]
  },
  {
   "cell_type": "markdown",
   "metadata": {},
   "source": [
    "Same as pipe"
   ]
  },
  {
   "cell_type": "code",
   "execution_count": 4,
   "metadata": {
    "tags": [
     "snippet:basicpipe"
    ]
   },
   "outputs": [
    {
     "name": "stdout",
     "output_type": "stream",
     "text": [
      "NB with Count\n",
      "                \t precision \t recall\n",
      "positive reviews:\t 0.87 \t\t 0.77\n",
      "negative reviews:\t 0.79 \t\t 0.88\n",
      "\n",
      "\n",
      "NB with TfIdf\n",
      "                \t precision \t recall\n",
      "positive reviews:\t 0.87 \t\t 0.78\n",
      "negative reviews:\t 0.80 \t\t 0.88\n",
      "\n",
      "\n",
      "LogReg with Count\n",
      "                \t precision \t recall\n",
      "positive reviews:\t 0.87 \t\t 0.85\n",
      "negative reviews:\t 0.85 \t\t 0.87\n",
      "\n",
      "\n",
      "LogReg with TfIdf\n",
      "                \t precision \t recall\n",
      "positive reviews:\t 0.89 \t\t 0.88\n",
      "negative reviews:\t 0.88 \t\t 0.89\n",
      "\n",
      "\n"
     ]
    }
   ],
   "source": [
    "from sklearn.pipeline import make_pipeline\n",
    "\n",
    "for description, vectorizer, classifier in configurations:\n",
    "    print(description)\n",
    "    pipe = make_pipeline(vectorizer, classifier)\n",
    "    pipe.fit(X_train_fulltext, y_train)\n",
    "    y_pred = pipe.predict(X_test_fulltext)\n",
    "    short_classification_report(y_test, y_pred)\n",
    "    print('\\n')"
   ]
  },
  {
   "cell_type": "markdown",
   "metadata": {},
   "source": [
    "## For the sake of comparison: how would an off-the-shelf dictionary approach perform?"
   ]
  },
  {
   "cell_type": "code",
   "execution_count": 5,
   "metadata": {
    "tags": [
     "snippet:vader"
    ]
   },
   "outputs": [
    {
     "name": "stdout",
     "output_type": "stream",
     "text": [
      "[[    0     0     0]\n",
      " [    6  6668  5826]\n",
      " [    5  1748 10747]]\n",
      "              precision    recall  f1-score   support\n",
      "\n",
      "   dont know       0.00      0.00      0.00         0\n",
      "         neg       0.79      0.53      0.64     12500\n",
      "         pos       0.65      0.86      0.74     12500\n",
      "\n",
      "   micro avg       0.70      0.70      0.70     25000\n",
      "   macro avg       0.48      0.46      0.46     25000\n",
      "weighted avg       0.72      0.70      0.69     25000\n",
      "\n"
     ]
    },
    {
     "name": "stderr",
     "output_type": "stream",
     "text": [
      "/usr/local/lib/python3.5/dist-packages/sklearn/metrics/classification.py:1145: UndefinedMetricWarning: Recall and F-score are ill-defined and being set to 0.0 in labels with no true samples.\n",
      "  'recall', 'true', average, warn_for)\n"
     ]
    }
   ],
   "source": [
    "from nltk.sentiment import vader\n",
    "\n",
    "analyzer = vader.SentimentIntensityAnalyzer()\n",
    "y_vader = []\n",
    "for review in X_test_fulltext:\n",
    "    sentiment = analyzer.polarity_scores(review)\n",
    "    if sentiment['compound']>0:\n",
    "        y_vader.append('pos')\n",
    "    elif sentiment['compound']<0:\n",
    "        y_vader.append('neg')\n",
    "    else:\n",
    "        y_vader.append('dont know')\n",
    "print(confusion_matrix(y_test, y_vader))\n",
    "print(classification_report(y_test, y_vader))"
   ]
  },
  {
   "cell_type": "code",
   "execution_count": 8,
   "metadata": {
    "tags": [
     "snippet:reuse"
    ]
   },
   "outputs": [
    {
     "name": "stdout",
     "output_type": "stream",
     "text": [
      "'This is a great movie' probably belongs to class 'pos'.\n",
      "'I hated this one.' probably belongs to class 'neg'.\n",
      "'What an awful fail' probably belongs to class 'neg'.\n"
     ]
    }
   ],
   "source": [
    "import pickle\n",
    "from sklearn.externals import joblib\n",
    "\n",
    "\n",
    "# fit vectorizer and model\n",
    "vectorizer = CountVectorizer(stop_words='english')\n",
    "X_train = vectorizer.fit_transform(X_train_fulltext)\n",
    "nb = MultinomialNB()\n",
    "nb.fit(X_train, y_train)\n",
    "\n",
    "# let's save them both\n",
    "pickle.dump(vectorizer,open(\"myvectorizer.pkl\",mode=\"wb\"))\n",
    "joblib.dump(nb, \"myclassifier.pkl\")\n",
    "\n",
    "#Then, later on, instead of fitting a new vectorizer, you can simply load the old one and use it:\n",
    "\n",
    "listwithnewdata = ['This is a great movie', 'I hated this one.', 'What an awful fail']\n",
    "\n",
    "myvectorizer = pickle.load(open(\"myvectorizer.pkl\",mode=\"rb\"))\n",
    "new_features = vectorizer.transform(listwithnewdata)\n",
    "\n",
    "myclassifier = joblib.load(\"myclassifier.pkl\")\n",
    "predictions = myclassifier.predict(new_features)\n",
    "\n",
    "for review, label in zip(listwithnewdata, predictions):\n",
    "    print(\"'{}' probably belongs to class '{}'.\".format(review,label))\n"
   ]
  }
 ],
 "metadata": {
  "celltoolbar": "Tags",
  "kernelspec": {
   "display_name": "Python 3",
   "language": "python",
   "name": "python3"
  },
  "language_info": {
   "codemirror_mode": {
    "name": "ipython",
    "version": 3
   },
   "file_extension": ".py",
   "mimetype": "text/x-python",
   "name": "python",
   "nbconvert_exporter": "python",
   "pygments_lexer": "ipython3",
   "version": "3.5.2"
  }
 },
 "nbformat": 4,
 "nbformat_minor": 2
}
