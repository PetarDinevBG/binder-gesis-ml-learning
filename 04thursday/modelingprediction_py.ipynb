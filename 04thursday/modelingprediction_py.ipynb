{
 "cells": [
  {
   "cell_type": "code",
   "execution_count": 17,
   "metadata": {
    "tags": [
     "snippet:ols"
    ]
   },
   "outputs": [
    {
     "data": {
      "text/plain": [
       "Intercept   -0.089560\n",
       "age          0.067620\n",
       "gender       0.176665\n",
       "dtype: float64"
      ]
     },
     "execution_count": 17,
     "metadata": {},
     "output_type": "execute_result"
    }
   ],
   "source": [
    "import pandas as pd\n",
    "import statsmodels.formula.api as smf\n",
    "df = pd.read_csv('http://cssbook.net/d/mediause.csv')\n",
    "model = smf.ols(formula = 'newspaper ~ age + gender', data = df).fit()\n",
    "# model.summary() would give a lot more info, but we only care about the coefficients:\n",
    "model.params"
   ]
  },
  {
   "cell_type": "code",
   "execution_count": 19,
   "metadata": {},
   "outputs": [
    {
     "data": {
      "text/html": [
       "<table class=\"simpletable\">\n",
       "<caption>OLS Regression Results</caption>\n",
       "<tr>\n",
       "  <th>Dep. Variable:</th>        <td>newspaper</td>    <th>  R-squared:         </th> <td>   0.190</td>\n",
       "</tr>\n",
       "<tr>\n",
       "  <th>Model:</th>                   <td>OLS</td>       <th>  Adj. R-squared:    </th> <td>   0.190</td>\n",
       "</tr>\n",
       "<tr>\n",
       "  <th>Method:</th>             <td>Least Squares</td>  <th>  F-statistic:       </th> <td>   244.4</td>\n",
       "</tr>\n",
       "<tr>\n",
       "  <th>Date:</th>             <td>Thu, 12 Mar 2020</td> <th>  Prob (F-statistic):</th> <td>4.76e-96</td>\n",
       "</tr>\n",
       "<tr>\n",
       "  <th>Time:</th>                 <td>10:47:24</td>     <th>  Log-Likelihood:    </th> <td> -4914.2</td>\n",
       "</tr>\n",
       "<tr>\n",
       "  <th>No. Observations:</th>      <td>  2081</td>      <th>  AIC:               </th> <td>   9834.</td>\n",
       "</tr>\n",
       "<tr>\n",
       "  <th>Df Residuals:</th>          <td>  2078</td>      <th>  BIC:               </th> <td>   9851.</td>\n",
       "</tr>\n",
       "<tr>\n",
       "  <th>Df Model:</th>              <td>     2</td>      <th>                     </th>     <td> </td>   \n",
       "</tr>\n",
       "<tr>\n",
       "  <th>Covariance Type:</th>      <td>nonrobust</td>    <th>                     </th>     <td> </td>   \n",
       "</tr>\n",
       "</table>\n",
       "<table class=\"simpletable\">\n",
       "<tr>\n",
       "      <td></td>         <th>coef</th>     <th>std err</th>      <th>t</th>      <th>P>|t|</th>  <th>[0.025</th>    <th>0.975]</th>  \n",
       "</tr>\n",
       "<tr>\n",
       "  <th>Intercept</th> <td>   -0.0896</td> <td>    0.159</td> <td>   -0.564</td> <td> 0.573</td> <td>   -0.401</td> <td>    0.222</td>\n",
       "</tr>\n",
       "<tr>\n",
       "  <th>age</th>       <td>    0.0676</td> <td>    0.003</td> <td>   21.872</td> <td> 0.000</td> <td>    0.062</td> <td>    0.074</td>\n",
       "</tr>\n",
       "<tr>\n",
       "  <th>gender</th>    <td>    0.1767</td> <td>    0.113</td> <td>    1.563</td> <td> 0.118</td> <td>   -0.045</td> <td>    0.398</td>\n",
       "</tr>\n",
       "</table>\n",
       "<table class=\"simpletable\">\n",
       "<tr>\n",
       "  <th>Omnibus:</th>       <td>671.643</td> <th>  Durbin-Watson:     </th> <td>   1.951</td>\n",
       "</tr>\n",
       "<tr>\n",
       "  <th>Prob(Omnibus):</th> <td> 0.000</td>  <th>  Jarque-Bera (JB):  </th> <td> 101.096</td>\n",
       "</tr>\n",
       "<tr>\n",
       "  <th>Skew:</th>          <td>-0.082</td>  <th>  Prob(JB):          </th> <td>1.11e-22</td>\n",
       "</tr>\n",
       "<tr>\n",
       "  <th>Kurtosis:</th>      <td> 1.933</td>  <th>  Cond. No.          </th> <td>    145.</td>\n",
       "</tr>\n",
       "</table><br/><br/>Warnings:<br/>[1] Standard Errors assume that the covariance matrix of the errors is correctly specified."
      ],
      "text/plain": [
       "<class 'statsmodels.iolib.summary.Summary'>\n",
       "\"\"\"\n",
       "                            OLS Regression Results                            \n",
       "==============================================================================\n",
       "Dep. Variable:              newspaper   R-squared:                       0.190\n",
       "Model:                            OLS   Adj. R-squared:                  0.190\n",
       "Method:                 Least Squares   F-statistic:                     244.4\n",
       "Date:                Thu, 12 Mar 2020   Prob (F-statistic):           4.76e-96\n",
       "Time:                        10:47:24   Log-Likelihood:                -4914.2\n",
       "No. Observations:                2081   AIC:                             9834.\n",
       "Df Residuals:                    2078   BIC:                             9851.\n",
       "Df Model:                           2                                         \n",
       "Covariance Type:            nonrobust                                         \n",
       "==============================================================================\n",
       "                 coef    std err          t      P>|t|      [0.025      0.975]\n",
       "------------------------------------------------------------------------------\n",
       "Intercept     -0.0896      0.159     -0.564      0.573      -0.401       0.222\n",
       "age            0.0676      0.003     21.872      0.000       0.062       0.074\n",
       "gender         0.1767      0.113      1.563      0.118      -0.045       0.398\n",
       "==============================================================================\n",
       "Omnibus:                      671.643   Durbin-Watson:                   1.951\n",
       "Prob(Omnibus):                  0.000   Jarque-Bera (JB):              101.096\n",
       "Skew:                          -0.082   Prob(JB):                     1.11e-22\n",
       "Kurtosis:                       1.933   Cond. No.                         145.\n",
       "==============================================================================\n",
       "\n",
       "Warnings:\n",
       "[1] Standard Errors assume that the covariance matrix of the errors is correctly specified.\n",
       "\"\"\""
      ]
     },
     "execution_count": 19,
     "metadata": {},
     "output_type": "execute_result"
    }
   ],
   "source": [
    "model.summary()"
   ]
  },
  {
   "cell_type": "code",
   "execution_count": 2,
   "metadata": {
    "tags": [
     "snippet:olspredict"
    ]
   },
   "outputs": [
    {
     "data": {
      "text/plain": [
       "0    1.439508\n",
       "1    2.615248\n",
       "dtype: float64"
      ]
     },
     "execution_count": 2,
     "metadata": {},
     "output_type": "execute_result"
    }
   ],
   "source": [
    "newdata = pd.DataFrame([{'gender':1, 'age':20}, {'gender': 0, 'age':40} ])\n",
    "model.predict(newdata)"
   ]
  },
  {
   "cell_type": "code",
   "execution_count": 16,
   "metadata": {
    "tags": [
     "snippet:preparedata"
    ]
   },
   "outputs": [
    {
     "name": "stdout",
     "output_type": "stream",
     "text": [
      "How many people used online news at all?\n",
      "True     1262\n",
      "False     803\n",
      "Name: uses-internet, dtype: int64\n",
      "We have 1652 training and 413 test cases.\n"
     ]
    }
   ],
   "source": [
    "import pandas as pd\n",
    "from sklearn.model_selection import train_test_split\n",
    "\n",
    "df = pd.read_csv('http://cssbook.net/d/mediause.csv')\n",
    "\n",
    "df['uses-internet'] = df['internet']>0\n",
    "df.dropna(inplace=True)\n",
    "print(\"How many people used online news at all?\")\n",
    "print(df['uses-internet'].value_counts())\n",
    "\n",
    "X_train, X_test, y_train, y_test = train_test_split(df[['age', 'education', 'gender']], df['uses-internet'], test_size=0.2, random_state=42)\n",
    "\n",
    "print('We have {} training and {} test cases.'.format(len(X_train), len(X_test)))"
   ]
  },
  {
   "cell_type": "code",
   "execution_count": 20,
   "metadata": {
    "tags": [
     "snippet:nb"
    ]
   },
   "outputs": [],
   "source": [
    "from sklearn.naive_bayes import GaussianNB\n",
    "\n",
    "\n",
    "myclassifier = GaussianNB()\n",
    "myclassifier.fit(X_train, y_train)\n",
    "\n",
    "y_pred = myclassifier.predict(X_test)"
   ]
  },
  {
   "cell_type": "code",
   "execution_count": 21,
   "metadata": {
    "tags": [
     "snippet:classificationreport"
    ]
   },
   "outputs": [
    {
     "name": "stdout",
     "output_type": "stream",
     "text": [
      "Confusion matrix:\n",
      "[[ 55 106]\n",
      " [ 40 212]]\n",
      "              precision    recall  f1-score   support\n",
      "\n",
      "       False       0.58      0.34      0.43       161\n",
      "        True       0.67      0.84      0.74       252\n",
      "\n",
      "   micro avg       0.65      0.65      0.65       413\n",
      "   macro avg       0.62      0.59      0.59       413\n",
      "weighted avg       0.63      0.65      0.62       413\n",
      "\n"
     ]
    }
   ],
   "source": [
    "from sklearn.metrics import confusion_matrix, classification_report\n",
    "\n",
    "print('Confusion matrix:')\n",
    "print(confusion_matrix(y_test, y_pred))\n",
    "print(classification_report(y_test, y_pred))\n"
   ]
  },
  {
   "cell_type": "code",
   "execution_count": 7,
   "metadata": {
    "tags": [
     "snippet:logreg"
    ]
   },
   "outputs": [],
   "source": [
    "from sklearn.linear_model import LogisticRegression\n",
    "myclassifier = LogisticRegression(solver='lbfgs')\n",
    "myclassifier.fit(X_train, y_train)\n",
    "\n",
    "y_pred = myclassifier.predict(X_test)"
   ]
  },
  {
   "cell_type": "code",
   "execution_count": 8,
   "metadata": {
    "tags": [
     "snippet:svm"
    ]
   },
   "outputs": [
    {
     "name": "stderr",
     "output_type": "stream",
     "text": [
      "/usr/local/lib/python3.5/dist-packages/sklearn/preprocessing/data.py:617: DataConversionWarning: Data with input dtype int64, float64 were all converted to float64 by StandardScaler.\n",
      "  return self.partial_fit(X, y)\n",
      "/usr/local/lib/python3.5/dist-packages/ipykernel_launcher.py:10: DataConversionWarning: Data with input dtype int64, float64 were all converted to float64 by StandardScaler.\n",
      "  # Remove the CWD from sys.path while we load stuff.\n",
      "/usr/local/lib/python3.5/dist-packages/ipykernel_launcher.py:11: DataConversionWarning: Data with input dtype int64, float64 were all converted to float64 by StandardScaler.\n",
      "  # This is added back by InteractiveShellApp.init_path()\n"
     ]
    }
   ],
   "source": [
    "from sklearn.svm import SVC\n",
    "from sklearn import preprocessing\n",
    "\n",
    "# !!! We normalize our features to have M = 0 and SD = 1\n",
    "# This is necessary as our features are not measured on the same scale, which SVM requires\n",
    "# It may also be OK to rescale to a range of [0:1] or [-1:1]\n",
    "\n",
    "scaler = preprocessing.Stfrom sklearn import preprocessing\n",
    "andardScaler().fit(X_train)\n",
    "\n",
    "X_train_scaled = scaler.transform(X_train)\n",
    "X_test_scaled = scaler.transform(X_test)\n",
    "\n",
    "myclassifier = SVC(gamma='scale')\n",
    "myclassifier.fit(X_train_scaled, y_train)\n",
    "\n",
    "y_pred = myclassifier.predict(X_test_scaled)"
   ]
  },
  {
   "cell_type": "code",
   "execution_count": 9,
   "metadata": {
    "tags": [
     "snippet:randomforest"
    ]
   },
   "outputs": [],
   "source": [
    "from sklearn.ensemble import RandomForestClassifier\n",
    "myclassifier = RandomForestClassifier(n_estimators=100)\n",
    "myclassifier.fit(X_train, y_train)\n",
    "\n",
    "y_pred = myclassifier.predict(X_test)\n"
   ]
  },
  {
   "cell_type": "code",
   "execution_count": 10,
   "metadata": {
    "tags": [
     "snippet:crossval"
    ]
   },
   "outputs": [
    {
     "name": "stdout",
     "output_type": "stream",
     "text": [
      "[0.64652568 0.64048338 0.62727273 0.64242424 0.63636364]\n",
      "M = 0.64, SD = 0.007\n"
     ]
    }
   ],
   "source": [
    "from sklearn.model_selection import cross_val_score\n",
    "myclassifier = LogisticRegression(solver='lbfgs')\n",
    "accuracy = cross_val_score(estimator=myclassifier, X=X_train, y=y_train, scoring='accuracy', cv=5)\n",
    "print(accuracy)\n",
    "print(\"M = {:.2f}, SD = {:.3f}\".format(accuracy.mean(), accuracy.std()), )"
   ]
  },
  {
   "cell_type": "code",
   "execution_count": 12,
   "metadata": {},
   "outputs": [
    {
     "name": "stdout",
     "output_type": "stream",
     "text": [
      "[0.1948816  0.19576536 0.15065913 0.1788275  0.16490932]\n",
      "M = 0.18, SD = 0.017\n"
     ]
    }
   ],
   "source": [
    "from sklearn.model_selection import cross_val_score\n",
    "from sklearn.metrics import cohen_kappa_score, make_scorer\n",
    "f1scores = cross_val_score(estimator=myclassifier, X=X_train, y=y_train, scoring=make_scorer(cohen_kappa_score), cv=5)\n",
    "print(f1scores)\n",
    "print(\"M = {:.2f}, SD = {:.3f}\".format(f1scores.mean(), f1scores.std()))\n"
   ]
  },
  {
   "cell_type": "code",
   "execution_count": 14,
   "metadata": {
    "tags": [
     "snippet:gridsearch"
    ]
   },
   "outputs": [
    {
     "name": "stdout",
     "output_type": "stream",
     "text": [
      "Using these hyperparameters {'bootstrap': True, 'n_estimators': 200, 'criterion': 'gini'}, we get the best performance:\n",
      "              precision    recall  f1-score   support\n",
      "\n",
      "       False       0.43      0.37      0.40       161\n",
      "        True       0.63      0.69      0.66       252\n",
      "\n",
      "   micro avg       0.57      0.57      0.57       413\n",
      "   macro avg       0.53      0.53      0.53       413\n",
      "weighted avg       0.56      0.57      0.56       413\n",
      "\n"
     ]
    }
   ],
   "source": [
    "from sklearn.model_selection import GridSearchCV\n",
    "\n",
    "myclassifier = RandomForestClassifier()\n",
    "\n",
    "grid = {\n",
    "    'n_estimators' : [10, 50, 100, 200], \n",
    "    'criterion': ['gini', 'entropy'],\n",
    "    'bootstrap': [True, False]\n",
    "}\n",
    "search = GridSearchCV(estimator=myclassifier,\n",
    "                     param_grid=grid,\n",
    "                     scoring='f1',\n",
    "                     cv=5)\n",
    "search.fit(X_train, y_train)\n",
    "print('Using these hyperparameters {}, we get the best performance:'.format(search.best_params_))\n",
    "print(classification_report(y_test, search.predict(X_test)))"
   ]
  },
  {
   "cell_type": "code",
   "execution_count": null,
   "metadata": {},
   "outputs": [],
   "source": []
  }
 ],
 "metadata": {
  "celltoolbar": "Tags",
  "kernelspec": {
   "display_name": "Python 3",
   "language": "python",
   "name": "python3"
  },
  "language_info": {
   "codemirror_mode": {
    "name": "ipython",
    "version": 3
   },
   "file_extension": ".py",
   "mimetype": "text/x-python",
   "name": "python",
   "nbconvert_exporter": "python",
   "pygments_lexer": "ipython3",
   "version": "3.5.2"
  }
 },
 "nbformat": 4,
 "nbformat_minor": 2
}
